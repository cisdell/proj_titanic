{
 "cells": [
  {
   "cell_type": "markdown",
   "metadata": {},
   "source": [
    "**This is a data science project on the Titanic Dataset. I will be using the dataset that can be found on: https://www.kaggle.com/c/titanic **"
   ]
  },
  {
   "cell_type": "code",
   "execution_count": null,
   "metadata": {},
   "outputs": [],
   "source": []
  },
  {
   "cell_type": "markdown",
   "metadata": {},
   "source": [
    "## Import Libraries"
   ]
  },
  {
   "cell_type": "code",
   "execution_count": 110,
   "metadata": {},
   "outputs": [],
   "source": [
    "import pandas as pd\n",
    "import matplotlib\n",
    "import numpy as np\n",
    "import scipy as sp\n",
    "import IPython\n",
    "from IPython import display\n",
    "import sklearn\n",
    "import random\n",
    "import time\n",
    "import warnings\n",
    "warnings.filterwarnings(\"ignore\")"
   ]
  },
  {
   "cell_type": "code",
   "execution_count": 111,
   "metadata": {},
   "outputs": [],
   "source": [
    "#common model algos\n",
    "from sklearn import svm, tree, linear_model, neighbors, naive_bayes, ensemble, discriminant_analysis, gaussian_process\n",
    "from xgboost import XGBClassifier\n",
    "import lightgbm as lgb\n"
   ]
  },
  {
   "cell_type": "code",
   "execution_count": 112,
   "metadata": {},
   "outputs": [],
   "source": [
    "#for organizing the data\n",
    "from sklearn.preprocessing import OneHotEncoder, LabelEncoder\n",
    "from sklearn import feature_selection\n",
    "from sklearn import model_selection\n",
    "from sklearn import metrics"
   ]
  },
  {
   "cell_type": "code",
   "execution_count": 113,
   "metadata": {},
   "outputs": [],
   "source": [
    "#visualization\n",
    "import matplotlib as mpl\n",
    "import matplotlib.pyplot as plt\n",
    "import matplotlib.pylab as pylab\n",
    "import seaborn as sns\n",
    "\n"
   ]
  },
  {
   "cell_type": "markdown",
   "metadata": {},
   "source": [
    "## Import Data"
   ]
  },
  {
   "cell_type": "code",
   "execution_count": 114,
   "metadata": {},
   "outputs": [],
   "source": [
    "#The data is imported from my local drive\n",
    "df_raw = pd.read_csv('train.csv')\n",
    "df_test  = pd.read_csv('test.csv')\n",
    "#Create a copy of the data so I don't mess with the original\n",
    "df1 = df_raw.copy(deep = True)\n",
    "\n",
    "data_cleaning = [df1, df_test]\n"
   ]
  },
  {
   "cell_type": "code",
   "execution_count": 115,
   "metadata": {},
   "outputs": [],
   "source": [
    "#data_raw.sample(10)"
   ]
  },
  {
   "cell_type": "markdown",
   "metadata": {},
   "source": [
    "## Check Data Quality"
   ]
  },
  {
   "cell_type": "code",
   "execution_count": 116,
   "metadata": {
    "scrolled": true
   },
   "outputs": [
    {
     "name": "stdout",
     "output_type": "stream",
     "text": [
      "PassengerId      0\n",
      "Survived         0\n",
      "Pclass           0\n",
      "Name             0\n",
      "Sex              0\n",
      "Age            177\n",
      "SibSp            0\n",
      "Parch            0\n",
      "Ticket           0\n",
      "Fare             0\n",
      "Cabin          687\n",
      "Embarked         2\n",
      "dtype: int64\n",
      "-------------------------\n",
      "PassengerId      0\n",
      "Pclass           0\n",
      "Name             0\n",
      "Sex              0\n",
      "Age             86\n",
      "SibSp            0\n",
      "Parch            0\n",
      "Ticket           0\n",
      "Fare             1\n",
      "Cabin          327\n",
      "Embarked         0\n",
      "dtype: int64\n"
     ]
    }
   ],
   "source": [
    "print(df1.isnull().sum())\n",
    "print('-'*25)\n",
    "print(df_test.isnull().sum())"
   ]
  },
  {
   "cell_type": "code",
   "execution_count": 117,
   "metadata": {
    "scrolled": true
   },
   "outputs": [
    {
     "data": {
      "text/html": [
       "<div>\n",
       "<style scoped>\n",
       "    .dataframe tbody tr th:only-of-type {\n",
       "        vertical-align: middle;\n",
       "    }\n",
       "\n",
       "    .dataframe tbody tr th {\n",
       "        vertical-align: top;\n",
       "    }\n",
       "\n",
       "    .dataframe thead th {\n",
       "        text-align: right;\n",
       "    }\n",
       "</style>\n",
       "<table border=\"1\" class=\"dataframe\">\n",
       "  <thead>\n",
       "    <tr style=\"text-align: right;\">\n",
       "      <th></th>\n",
       "      <th>PassengerId</th>\n",
       "      <th>Survived</th>\n",
       "      <th>Pclass</th>\n",
       "      <th>Name</th>\n",
       "      <th>Sex</th>\n",
       "      <th>Age</th>\n",
       "      <th>SibSp</th>\n",
       "      <th>Parch</th>\n",
       "      <th>Ticket</th>\n",
       "      <th>Fare</th>\n",
       "      <th>Cabin</th>\n",
       "      <th>Embarked</th>\n",
       "    </tr>\n",
       "  </thead>\n",
       "  <tbody>\n",
       "    <tr>\n",
       "      <th>461</th>\n",
       "      <td>462</td>\n",
       "      <td>0</td>\n",
       "      <td>3</td>\n",
       "      <td>Morley, Mr. William</td>\n",
       "      <td>male</td>\n",
       "      <td>34.0</td>\n",
       "      <td>0</td>\n",
       "      <td>0</td>\n",
       "      <td>364506</td>\n",
       "      <td>8.050</td>\n",
       "      <td>NaN</td>\n",
       "      <td>S</td>\n",
       "    </tr>\n",
       "    <tr>\n",
       "      <th>51</th>\n",
       "      <td>52</td>\n",
       "      <td>0</td>\n",
       "      <td>3</td>\n",
       "      <td>Nosworthy, Mr. Richard Cater</td>\n",
       "      <td>male</td>\n",
       "      <td>21.0</td>\n",
       "      <td>0</td>\n",
       "      <td>0</td>\n",
       "      <td>A/4. 39886</td>\n",
       "      <td>7.800</td>\n",
       "      <td>NaN</td>\n",
       "      <td>S</td>\n",
       "    </tr>\n",
       "    <tr>\n",
       "      <th>284</th>\n",
       "      <td>285</td>\n",
       "      <td>0</td>\n",
       "      <td>1</td>\n",
       "      <td>Smith, Mr. Richard William</td>\n",
       "      <td>male</td>\n",
       "      <td>NaN</td>\n",
       "      <td>0</td>\n",
       "      <td>0</td>\n",
       "      <td>113056</td>\n",
       "      <td>26.000</td>\n",
       "      <td>A19</td>\n",
       "      <td>S</td>\n",
       "    </tr>\n",
       "    <tr>\n",
       "      <th>328</th>\n",
       "      <td>329</td>\n",
       "      <td>1</td>\n",
       "      <td>3</td>\n",
       "      <td>Goldsmith, Mrs. Frank John (Emily Alice Brown)</td>\n",
       "      <td>female</td>\n",
       "      <td>31.0</td>\n",
       "      <td>1</td>\n",
       "      <td>1</td>\n",
       "      <td>363291</td>\n",
       "      <td>20.525</td>\n",
       "      <td>NaN</td>\n",
       "      <td>S</td>\n",
       "    </tr>\n",
       "    <tr>\n",
       "      <th>121</th>\n",
       "      <td>122</td>\n",
       "      <td>0</td>\n",
       "      <td>3</td>\n",
       "      <td>Moore, Mr. Leonard Charles</td>\n",
       "      <td>male</td>\n",
       "      <td>NaN</td>\n",
       "      <td>0</td>\n",
       "      <td>0</td>\n",
       "      <td>A4. 54510</td>\n",
       "      <td>8.050</td>\n",
       "      <td>NaN</td>\n",
       "      <td>S</td>\n",
       "    </tr>\n",
       "  </tbody>\n",
       "</table>\n",
       "</div>"
      ],
      "text/plain": [
       "     PassengerId  Survived  Pclass  \\\n",
       "461          462         0       3   \n",
       "51            52         0       3   \n",
       "284          285         0       1   \n",
       "328          329         1       3   \n",
       "121          122         0       3   \n",
       "\n",
       "                                               Name     Sex   Age  SibSp  \\\n",
       "461                             Morley, Mr. William    male  34.0      0   \n",
       "51                     Nosworthy, Mr. Richard Cater    male  21.0      0   \n",
       "284                      Smith, Mr. Richard William    male   NaN      0   \n",
       "328  Goldsmith, Mrs. Frank John (Emily Alice Brown)  female  31.0      1   \n",
       "121                      Moore, Mr. Leonard Charles    male   NaN      0   \n",
       "\n",
       "     Parch      Ticket    Fare Cabin Embarked  \n",
       "461      0      364506   8.050   NaN        S  \n",
       "51       0  A/4. 39886   7.800   NaN        S  \n",
       "284      0      113056  26.000   A19        S  \n",
       "328      1      363291  20.525   NaN        S  \n",
       "121      0   A4. 54510   8.050   NaN        S  "
      ]
     },
     "execution_count": 117,
     "metadata": {},
     "output_type": "execute_result"
    }
   ],
   "source": [
    "df1.columns\n",
    "df1.sample(5)"
   ]
  },
  {
   "cell_type": "markdown",
   "metadata": {},
   "source": [
    "## Data Cleaning and Feature Engineering"
   ]
  },
  {
   "cell_type": "markdown",
   "metadata": {},
   "source": [
    "fill Age with median age, Embarked with mode, and Fare with median fare. Drop \n",
    "from PassengerID, Cabin and Ticket columns. \n"
   ]
  },
  {
   "cell_type": "code",
   "execution_count": 118,
   "metadata": {
    "scrolled": true
   },
   "outputs": [
    {
     "data": {
      "text/plain": [
       "0    S\n",
       "dtype: object"
      ]
     },
     "execution_count": 118,
     "metadata": {},
     "output_type": "execute_result"
    }
   ],
   "source": [
    "df1.Embarked.mode()"
   ]
  },
  {
   "cell_type": "markdown",
   "metadata": {},
   "source": [
    "Age, Embarked, Cabin and Fare had some missing data. There are too much data missing for Cabin so I'm going to just drop them"
   ]
  },
  {
   "cell_type": "code",
   "execution_count": 119,
   "metadata": {},
   "outputs": [],
   "source": [
    "#Since there are two sets of data with almost identical column vectors I will just create a list of data frames and cleam them easily\n",
    "for dataset in data_cleaning: \n",
    "    dataset['Age'] = dataset['Age'].fillna(dataset.Age.median())\n",
    "    dataset['Embarked'] = dataset['Embarked'].fillna(dataset.Embarked.mode()[0])\n",
    "    dataset['Fare'] = dataset['Fare'].fillna(dataset.Fare.median())\n"
   ]
  },
  {
   "cell_type": "markdown",
   "metadata": {},
   "source": [
    "PassenngerID not that meaningful, Cabin has too much data missing, and Ticket data seems quite random as well. So we are dropping them."
   ]
  },
  {
   "cell_type": "code",
   "execution_count": 120,
   "metadata": {},
   "outputs": [],
   "source": [
    "df1.drop(['PassengerId', 'Cabin', 'Ticket'], axis=1, inplace=True)\n"
   ]
  },
  {
   "cell_type": "code",
   "execution_count": 121,
   "metadata": {
    "scrolled": true
   },
   "outputs": [
    {
     "data": {
      "text/plain": [
       "Survived    0\n",
       "Pclass      0\n",
       "Name        0\n",
       "Sex         0\n",
       "Age         0\n",
       "SibSp       0\n",
       "Parch       0\n",
       "Fare        0\n",
       "Embarked    0\n",
       "dtype: int64"
      ]
     },
     "execution_count": 121,
     "metadata": {},
     "output_type": "execute_result"
    }
   ],
   "source": [
    "df1.isnull().sum()"
   ]
  },
  {
   "cell_type": "markdown",
   "metadata": {},
   "source": [
    "Some quick feature engineering: I am going to keep the Title "
   ]
  },
  {
   "cell_type": "code",
   "execution_count": 122,
   "metadata": {
    "scrolled": false
   },
   "outputs": [],
   "source": [
    "for dataset in data_cleaning:\n",
    "    dataset['FamilySize'] = dataset.SibSp + dataset.Parch + 1\n",
    "    dataset['IsAlone'] = (dataset.FamilySize == 1).astype(int)\n",
    "    dataset['Title'] = dataset.Name.str.split().str[1]\n",
    "    dataset['FareBin'] = pd.qcut(dataset['Fare'], 4)\n",
    "    dataset['AgeBin'] = pd.cut(dataset.Age.astype(int), 5)\n",
    "    "
   ]
  },
  {
   "cell_type": "code",
   "execution_count": 123,
   "metadata": {
    "scrolled": true
   },
   "outputs": [],
   "source": [
    "title_count = df1.Title.value_counts() < 10\n",
    "df1['Title'] = df1['Title'].apply(lambda x: 'Other' if title_count[x] == True else x)"
   ]
  },
  {
   "cell_type": "markdown",
   "metadata": {},
   "source": [
    "## Convert Format"
   ]
  },
  {
   "cell_type": "code",
   "execution_count": 124,
   "metadata": {
    "scrolled": false
   },
   "outputs": [],
   "source": [
    "label = LabelEncoder()\n",
    "for dataset in data_cleaning:\n",
    "    dataset['Sex_Code'] = label.fit_transform(dataset['Sex'])\n",
    "    dataset['Embarked_Code'] = label.fit_transform(dataset['Embarked'])\n",
    "    dataset['Title_Code'] = label.fit_transform(dataset['Title'])\n",
    "    dataset['AgeBin_Code'] = label.fit_transform(dataset['AgeBin'])\n",
    "    dataset['FareBin_Code'] = label.fit_transform(dataset['FareBin'])\n",
    "    \n",
    "Target = ['Survived']"
   ]
  },
  {
   "cell_type": "code",
   "execution_count": 125,
   "metadata": {},
   "outputs": [
    {
     "name": "stdout",
     "output_type": "stream",
     "text": [
      "Original vectors with Target:  ['Survived', 'Sex', 'Pclass', 'Embarked', 'Title', 'SibSp', 'Parch', 'Age', 'Fare', 'FamilySize', 'IsAlone'] \n",
      "\n",
      "Bin vectors with Target:  ['Survived', 'Sex_Code', 'Pclass', 'Embarked_Code', 'Title_Code', 'FamilySize', 'AgeBin_Code', 'FareBin_Code'] \n",
      "\n"
     ]
    }
   ],
   "source": [
    "#define  variables for original features. This is for vizualizat\n",
    "df1_x = ['Sex', 'Pclass', 'Embarked', 'Title', 'SibSp', 'Parch', 'Age', 'Fare', 'FamilySize', 'IsAlone']\n",
    "\n",
    "\n",
    "df1_x_calc = ['Sex_Code', 'Pclass', 'Embarked_Code', 'Title_Code', 'SibSp', 'Parch', 'Age', 'Fare']\n",
    "#calculation for algos\n",
    "\n",
    "df1_xy = Target + df1_x\n",
    "print('Original vectors with Target: ', df1_xy, '\\n')\n",
    "\n",
    "#define x variables for original with bin features so we don't have to use continuous variables\n",
    "df1_x_bin = ['Sex_Code', 'Pclass', 'Embarked_Code', 'Title_Code', 'FamilySize', 'AgeBin_Code', 'FareBin_Code']\n",
    "df1_xy_bin = Target + df1_x_bin\n",
    "print('Bin vectors with Target: ', df1_xy_bin, '\\n')\n"
   ]
  },
  {
   "cell_type": "code",
   "execution_count": 126,
   "metadata": {
    "scrolled": false
   },
   "outputs": [
    {
     "name": "stdout",
     "output_type": "stream",
     "text": [
      "Dummy X Y:  ['Survived', 'Pclass', 'SibSp', 'Parch', 'Age', 'Fare', 'FamilySize', 'IsAlone', 'Sex_female', 'Sex_male', 'Embarked_C', 'Embarked_Q', 'Embarked_S', 'Title_Master.', 'Title_Miss.', 'Title_Mr.', 'Title_Mrs.', 'Title_Other'] \n",
      "\n"
     ]
    },
    {
     "data": {
      "text/html": [
       "<div>\n",
       "<style scoped>\n",
       "    .dataframe tbody tr th:only-of-type {\n",
       "        vertical-align: middle;\n",
       "    }\n",
       "\n",
       "    .dataframe tbody tr th {\n",
       "        vertical-align: top;\n",
       "    }\n",
       "\n",
       "    .dataframe thead th {\n",
       "        text-align: right;\n",
       "    }\n",
       "</style>\n",
       "<table border=\"1\" class=\"dataframe\">\n",
       "  <thead>\n",
       "    <tr style=\"text-align: right;\">\n",
       "      <th></th>\n",
       "      <th>Pclass</th>\n",
       "      <th>SibSp</th>\n",
       "      <th>Parch</th>\n",
       "      <th>Age</th>\n",
       "      <th>Fare</th>\n",
       "      <th>FamilySize</th>\n",
       "      <th>IsAlone</th>\n",
       "      <th>Sex_female</th>\n",
       "      <th>Sex_male</th>\n",
       "      <th>Embarked_C</th>\n",
       "      <th>Embarked_Q</th>\n",
       "      <th>Embarked_S</th>\n",
       "      <th>Title_Master.</th>\n",
       "      <th>Title_Miss.</th>\n",
       "      <th>Title_Mr.</th>\n",
       "      <th>Title_Mrs.</th>\n",
       "      <th>Title_Other</th>\n",
       "    </tr>\n",
       "  </thead>\n",
       "  <tbody>\n",
       "    <tr>\n",
       "      <th>0</th>\n",
       "      <td>3</td>\n",
       "      <td>1</td>\n",
       "      <td>0</td>\n",
       "      <td>22.0</td>\n",
       "      <td>7.2500</td>\n",
       "      <td>2</td>\n",
       "      <td>0</td>\n",
       "      <td>0</td>\n",
       "      <td>1</td>\n",
       "      <td>0</td>\n",
       "      <td>0</td>\n",
       "      <td>1</td>\n",
       "      <td>0</td>\n",
       "      <td>0</td>\n",
       "      <td>1</td>\n",
       "      <td>0</td>\n",
       "      <td>0</td>\n",
       "    </tr>\n",
       "    <tr>\n",
       "      <th>1</th>\n",
       "      <td>1</td>\n",
       "      <td>1</td>\n",
       "      <td>0</td>\n",
       "      <td>38.0</td>\n",
       "      <td>71.2833</td>\n",
       "      <td>2</td>\n",
       "      <td>0</td>\n",
       "      <td>1</td>\n",
       "      <td>0</td>\n",
       "      <td>1</td>\n",
       "      <td>0</td>\n",
       "      <td>0</td>\n",
       "      <td>0</td>\n",
       "      <td>0</td>\n",
       "      <td>0</td>\n",
       "      <td>1</td>\n",
       "      <td>0</td>\n",
       "    </tr>\n",
       "    <tr>\n",
       "      <th>2</th>\n",
       "      <td>3</td>\n",
       "      <td>0</td>\n",
       "      <td>0</td>\n",
       "      <td>26.0</td>\n",
       "      <td>7.9250</td>\n",
       "      <td>1</td>\n",
       "      <td>1</td>\n",
       "      <td>1</td>\n",
       "      <td>0</td>\n",
       "      <td>0</td>\n",
       "      <td>0</td>\n",
       "      <td>1</td>\n",
       "      <td>0</td>\n",
       "      <td>1</td>\n",
       "      <td>0</td>\n",
       "      <td>0</td>\n",
       "      <td>0</td>\n",
       "    </tr>\n",
       "    <tr>\n",
       "      <th>3</th>\n",
       "      <td>1</td>\n",
       "      <td>1</td>\n",
       "      <td>0</td>\n",
       "      <td>35.0</td>\n",
       "      <td>53.1000</td>\n",
       "      <td>2</td>\n",
       "      <td>0</td>\n",
       "      <td>1</td>\n",
       "      <td>0</td>\n",
       "      <td>0</td>\n",
       "      <td>0</td>\n",
       "      <td>1</td>\n",
       "      <td>0</td>\n",
       "      <td>0</td>\n",
       "      <td>0</td>\n",
       "      <td>1</td>\n",
       "      <td>0</td>\n",
       "    </tr>\n",
       "    <tr>\n",
       "      <th>4</th>\n",
       "      <td>3</td>\n",
       "      <td>0</td>\n",
       "      <td>0</td>\n",
       "      <td>35.0</td>\n",
       "      <td>8.0500</td>\n",
       "      <td>1</td>\n",
       "      <td>1</td>\n",
       "      <td>0</td>\n",
       "      <td>1</td>\n",
       "      <td>0</td>\n",
       "      <td>0</td>\n",
       "      <td>1</td>\n",
       "      <td>0</td>\n",
       "      <td>0</td>\n",
       "      <td>1</td>\n",
       "      <td>0</td>\n",
       "      <td>0</td>\n",
       "    </tr>\n",
       "  </tbody>\n",
       "</table>\n",
       "</div>"
      ],
      "text/plain": [
       "   Pclass  SibSp  Parch   Age     Fare  FamilySize  IsAlone  Sex_female  \\\n",
       "0       3      1      0  22.0   7.2500           2        0           0   \n",
       "1       1      1      0  38.0  71.2833           2        0           1   \n",
       "2       3      0      0  26.0   7.9250           1        1           1   \n",
       "3       1      1      0  35.0  53.1000           2        0           1   \n",
       "4       3      0      0  35.0   8.0500           1        1           0   \n",
       "\n",
       "   Sex_male  Embarked_C  Embarked_Q  Embarked_S  Title_Master.  Title_Miss.  \\\n",
       "0         1           0           0           1              0            0   \n",
       "1         0           1           0           0              0            0   \n",
       "2         0           0           0           1              0            1   \n",
       "3         0           0           0           1              0            0   \n",
       "4         1           0           0           1              0            0   \n",
       "\n",
       "   Title_Mr.  Title_Mrs.  Title_Other  \n",
       "0          1           0            0  \n",
       "1          0           1            0  \n",
       "2          0           0            0  \n",
       "3          0           1            0  \n",
       "4          1           0            0  "
      ]
     },
     "execution_count": 126,
     "metadata": {},
     "output_type": "execute_result"
    }
   ],
   "source": [
    "#define x and y variables for dummy features original\n",
    "df1_dummy = pd.get_dummies(df1[df1_x])\n",
    "df1_x_dummy = df1_dummy.columns.tolist()\n",
    "df1_xy_dummy = Target + df1_x_dummy\n",
    "print('Dummy X Y: ', df1_xy_dummy, '\\n')\n",
    "\n",
    "\n",
    "\n",
    "df1_dummy.head()"
   ]
  },
  {
   "cell_type": "code",
   "execution_count": null,
   "metadata": {},
   "outputs": [],
   "source": []
  },
  {
   "cell_type": "markdown",
   "metadata": {},
   "source": [
    "## Double Check Data"
   ]
  },
  {
   "cell_type": "code",
   "execution_count": 127,
   "metadata": {
    "scrolled": true
   },
   "outputs": [
    {
     "name": "stdout",
     "output_type": "stream",
     "text": [
      "<class 'pandas.core.frame.DataFrame'>\n",
      "RangeIndex: 891 entries, 0 to 890\n",
      "Data columns (total 19 columns):\n",
      "Survived         891 non-null int64\n",
      "Pclass           891 non-null int64\n",
      "Name             891 non-null object\n",
      "Sex              891 non-null object\n",
      "Age              891 non-null float64\n",
      "SibSp            891 non-null int64\n",
      "Parch            891 non-null int64\n",
      "Fare             891 non-null float64\n",
      "Embarked         891 non-null object\n",
      "FamilySize       891 non-null int64\n",
      "IsAlone          891 non-null int32\n",
      "Title            891 non-null object\n",
      "FareBin          891 non-null category\n",
      "AgeBin           891 non-null category\n",
      "Sex_Code         891 non-null int64\n",
      "Embarked_Code    891 non-null int64\n",
      "Title_Code       891 non-null int64\n",
      "AgeBin_Code      891 non-null int64\n",
      "FareBin_Code     891 non-null int64\n",
      "dtypes: category(2), float64(2), int32(1), int64(10), object(4)\n",
      "memory usage: 116.8+ KB\n",
      "None \n",
      "\n",
      "\n",
      "\n",
      "     Survived  Pclass                                             Name  \\\n",
      "591         1       1  Stephenson, Mrs. Walter Bertram (Martha Eustis)   \n",
      "863         0       3                Sage, Miss. Dorothy Edith \"Dolly\"   \n",
      "465         0       3                  Goncalves, Mr. Manuel Estanslas   \n",
      "661         0       3                                Badt, Mr. Mohamed   \n",
      "623         0       3                      Hansen, Mr. Henry Damsgaard   \n",
      "\n",
      "        Sex   Age  SibSp  Parch     Fare Embarked  FamilySize  IsAlone  Title  \\\n",
      "591  female  52.0      1      0  78.2667        C           2        0   Mrs.   \n",
      "863  female  28.0      8      2  69.5500        S          11        0  Miss.   \n",
      "465    male  38.0      0      0   7.0500        S           1        1    Mr.   \n",
      "661    male  40.0      0      0   7.2250        C           1        1    Mr.   \n",
      "623    male  21.0      0      0   7.8542        S           1        1    Mr.   \n",
      "\n",
      "             FareBin        AgeBin  Sex_Code  Embarked_Code  Title_Code  \\\n",
      "591  (31.0, 512.329]  (48.0, 64.0]         0              0           3   \n",
      "863  (31.0, 512.329]  (16.0, 32.0]         0              2           1   \n",
      "465   (-0.001, 7.91]  (32.0, 48.0]         1              2           2   \n",
      "661   (-0.001, 7.91]  (32.0, 48.0]         1              0           2   \n",
      "623   (-0.001, 7.91]  (16.0, 32.0]         1              2           2   \n",
      "\n",
      "     AgeBin_Code  FareBin_Code  \n",
      "591            3             3  \n",
      "863            1             3  \n",
      "465            2             0  \n",
      "661            2             0  \n",
      "623            1             0  \n"
     ]
    }
   ],
   "source": [
    "print(df1.info(), '\\n'*3)\n",
    "print(df1.sample(5))"
   ]
  },
  {
   "cell_type": "markdown",
   "metadata": {},
   "source": [
    "Looks good. No missing data "
   ]
  },
  {
   "cell_type": "markdown",
   "metadata": {},
   "source": [
    "## EDA with Vizualization"
   ]
  },
  {
   "cell_type": "markdown",
   "metadata": {},
   "source": [
    "Let's explore the correlation of some variables by Target data. "
   ]
  },
  {
   "cell_type": "code",
   "execution_count": 128,
   "metadata": {
    "scrolled": true
   },
   "outputs": [],
   "source": [
    "#df1.loc[:,['Sex', 'Survived']].groupby('Sex').mean()\n",
    "\n",
    "def corr_stat(var_list):\n",
    "    for x in var_list:\n",
    "        if df1[x].dtype != 'float64':\n",
    "            print(df1.loc[:,[x, \"Survived\"]].groupby(x).mean())\n",
    "            print('-'*20, '\\n')"
   ]
  },
  {
   "cell_type": "code",
   "execution_count": 129,
   "metadata": {
    "scrolled": true
   },
   "outputs": [
    {
     "name": "stdout",
     "output_type": "stream",
     "text": [
      "        Survived\n",
      "Sex             \n",
      "female  0.742038\n",
      "male    0.188908\n",
      "-------------------- \n",
      "\n",
      "        Survived\n",
      "Pclass          \n",
      "1       0.629630\n",
      "2       0.472826\n",
      "3       0.242363\n",
      "-------------------- \n",
      "\n",
      "          Survived\n",
      "Embarked          \n",
      "C         0.553571\n",
      "Q         0.389610\n",
      "S         0.339009\n",
      "-------------------- \n",
      "\n",
      "         Survived\n",
      "Title            \n",
      "Master.  0.575000\n",
      "Miss.    0.703911\n",
      "Mr.      0.157371\n",
      "Mrs.     0.801653\n",
      "Other    0.346939\n",
      "-------------------- \n",
      "\n",
      "       Survived\n",
      "SibSp          \n",
      "0      0.345395\n",
      "1      0.535885\n",
      "2      0.464286\n",
      "3      0.250000\n",
      "4      0.166667\n",
      "5      0.000000\n",
      "8      0.000000\n",
      "-------------------- \n",
      "\n",
      "       Survived\n",
      "Parch          \n",
      "0      0.343658\n",
      "1      0.550847\n",
      "2      0.500000\n",
      "3      0.600000\n",
      "4      0.000000\n",
      "5      0.200000\n",
      "6      0.000000\n",
      "-------------------- \n",
      "\n",
      "            Survived\n",
      "FamilySize          \n",
      "1           0.303538\n",
      "2           0.552795\n",
      "3           0.578431\n",
      "4           0.724138\n",
      "5           0.200000\n",
      "6           0.136364\n",
      "7           0.333333\n",
      "8           0.000000\n",
      "11          0.000000\n",
      "-------------------- \n",
      "\n",
      "         Survived\n",
      "IsAlone          \n",
      "0        0.505650\n",
      "1        0.303538\n",
      "-------------------- \n",
      "\n"
     ]
    }
   ],
   "source": [
    "corr_stat(df1_x)"
   ]
  },
  {
   "cell_type": "markdown",
   "metadata": {},
   "source": [
    "Vizualizations\n"
   ]
  },
  {
   "cell_type": "code",
   "execution_count": 130,
   "metadata": {},
   "outputs": [
    {
     "data": {
      "text/plain": [
       "['Sex',\n",
       " 'Pclass',\n",
       " 'Embarked',\n",
       " 'Title',\n",
       " 'SibSp',\n",
       " 'Parch',\n",
       " 'Age',\n",
       " 'Fare',\n",
       " 'FamilySize',\n",
       " 'IsAlone']"
      ]
     },
     "execution_count": 130,
     "metadata": {},
     "output_type": "execute_result"
    }
   ],
   "source": [
    "df1_x"
   ]
  },
  {
   "cell_type": "code",
   "execution_count": 131,
   "metadata": {
    "scrolled": true
   },
   "outputs": [
    {
     "data": {
      "text/plain": [
       "<matplotlib.axes._subplots.AxesSubplot at 0x1b95a3fa278>"
      ]
     },
     "execution_count": 131,
     "metadata": {},
     "output_type": "execute_result"
    },
    {
     "data": {
      "image/png": "[encoded data removed]",
      "text/plain": [
       "<matplotlib.figure.Figure at 0x1b95a927080>"
      ]
     },
     "metadata": {},
     "output_type": "display_data"
    }
   ],
   "source": [
    "fig, saxis = plt.subplots(2, 2, figsize= (16,12))\n",
    "sns.barplot(x='Sex', y='Survived', data=df1, ax = saxis[0,0])\n",
    "sns.barplot(x='Pclass', y='Survived', data=df1, ax = saxis[0,1])\n",
    "sns.barplot(x='Title', y='Survived', data=df1, ax = saxis[1,0])\n",
    "sns.barplot(x='FamilySize', y='Survived', data=df1, ax = saxis[1,1])"
   ]
  },
  {
   "cell_type": "code",
   "execution_count": null,
   "metadata": {},
   "outputs": [],
   "source": []
  },
  {
   "cell_type": "code",
   "execution_count": null,
   "metadata": {},
   "outputs": [],
   "source": []
  },
  {
   "cell_type": "code",
   "execution_count": null,
   "metadata": {},
   "outputs": [],
   "source": []
  },
  {
   "cell_type": "code",
   "execution_count": null,
   "metadata": {},
   "outputs": [],
   "source": []
  },
  {
   "cell_type": "markdown",
   "metadata": {},
   "source": [
    "## Model Comparison"
   ]
  },
  {
   "cell_type": "code",
   "execution_count": 133,
   "metadata": {
    "scrolled": true
   },
   "outputs": [
    {
     "data": {
      "text/html": [
       "<div>\n",
       "<style scoped>\n",
       "    .dataframe tbody tr th:only-of-type {\n",
       "        vertical-align: middle;\n",
       "    }\n",
       "\n",
       "    .dataframe tbody tr th {\n",
       "        vertical-align: top;\n",
       "    }\n",
       "\n",
       "    .dataframe thead th {\n",
       "        text-align: right;\n",
       "    }\n",
       "</style>\n",
       "<table border=\"1\" class=\"dataframe\">\n",
       "  <thead>\n",
       "    <tr style=\"text-align: right;\">\n",
       "      <th></th>\n",
       "      <th>MLC Name</th>\n",
       "      <th>MLC Parameters</th>\n",
       "      <th>MLC Train Accuracy Mean</th>\n",
       "      <th>MLC Test Accuracy Mean</th>\n",
       "      <th>MLC Test Accuracy 3*STD</th>\n",
       "      <th>MLC Time</th>\n",
       "    </tr>\n",
       "  </thead>\n",
       "  <tbody>\n",
       "    <tr>\n",
       "      <th>11</th>\n",
       "      <td>LGBMClassifier</td>\n",
       "      <td>{'boosting_type': 'gbdt', 'class_weight': None...</td>\n",
       "      <td>0.876921</td>\n",
       "      <td>0.819345</td>\n",
       "      <td>0.0680627</td>\n",
       "      <td>0.0443744</td>\n",
       "    </tr>\n",
       "    <tr>\n",
       "      <th>2</th>\n",
       "      <td>GradientBoostingClassifier</td>\n",
       "      <td>{'criterion': 'friedman_mse', 'init': None, 'l...</td>\n",
       "      <td>0.864952</td>\n",
       "      <td>0.818209</td>\n",
       "      <td>0.044254</td>\n",
       "      <td>0.0461946</td>\n",
       "    </tr>\n",
       "    <tr>\n",
       "      <th>10</th>\n",
       "      <td>XGBClassifier</td>\n",
       "      <td>{'base_score': 0.5, 'booster': 'gbtree', 'cols...</td>\n",
       "      <td>0.852604</td>\n",
       "      <td>0.817098</td>\n",
       "      <td>0.0632654</td>\n",
       "      <td>0.0363567</td>\n",
       "    </tr>\n",
       "    <tr>\n",
       "      <th>3</th>\n",
       "      <td>BaggingClassifier</td>\n",
       "      <td>{'base_estimator': None, 'bootstrap': True, 'b...</td>\n",
       "      <td>0.893005</td>\n",
       "      <td>0.81373</td>\n",
       "      <td>0.0596801</td>\n",
       "      <td>0.00996011</td>\n",
       "    </tr>\n",
       "    <tr>\n",
       "      <th>1</th>\n",
       "      <td>RandomForestClassifier</td>\n",
       "      <td>{'bootstrap': True, 'class_weight': None, 'cri...</td>\n",
       "      <td>0.893006</td>\n",
       "      <td>0.805882</td>\n",
       "      <td>0.0711652</td>\n",
       "      <td>0.00948012</td>\n",
       "    </tr>\n",
       "    <tr>\n",
       "      <th>0</th>\n",
       "      <td>AdaBoostClassifier</td>\n",
       "      <td>{'algorithm': 'SAMME.R', 'base_estimator': Non...</td>\n",
       "      <td>0.8223</td>\n",
       "      <td>0.802514</td>\n",
       "      <td>0.0804876</td>\n",
       "      <td>0.043391</td>\n",
       "    </tr>\n",
       "    <tr>\n",
       "      <th>9</th>\n",
       "      <td>DecisionTreeClassifier</td>\n",
       "      <td>{'class_weight': None, 'criterion': 'gini', 'm...</td>\n",
       "      <td>0.897121</td>\n",
       "      <td>0.801388</td>\n",
       "      <td>0.0718485</td>\n",
       "      <td>0.00149649</td>\n",
       "    </tr>\n",
       "    <tr>\n",
       "      <th>6</th>\n",
       "      <td>GaussianNB</td>\n",
       "      <td>{'priors': None}</td>\n",
       "      <td>0.796108</td>\n",
       "      <td>0.789036</td>\n",
       "      <td>0.0684322</td>\n",
       "      <td>0.00124663</td>\n",
       "    </tr>\n",
       "    <tr>\n",
       "      <th>8</th>\n",
       "      <td>LinearSVC</td>\n",
       "      <td>{'C': 1.0, 'class_weight': None, 'dual': True,...</td>\n",
       "      <td>0.79237</td>\n",
       "      <td>0.784541</td>\n",
       "      <td>0.0671827</td>\n",
       "      <td>0.0251824</td>\n",
       "    </tr>\n",
       "    <tr>\n",
       "      <th>4</th>\n",
       "      <td>LogisticRegression</td>\n",
       "      <td>{'C': 1.0, 'class_weight': None, 'dual': False...</td>\n",
       "      <td>0.791249</td>\n",
       "      <td>0.781168</td>\n",
       "      <td>0.0597469</td>\n",
       "      <td>0.00248557</td>\n",
       "    </tr>\n",
       "    <tr>\n",
       "      <th>5</th>\n",
       "      <td>Perceptron</td>\n",
       "      <td>{'alpha': 0.0001, 'class_weight': None, 'eta0'...</td>\n",
       "      <td>0.754945</td>\n",
       "      <td>0.749773</td>\n",
       "      <td>0.103863</td>\n",
       "      <td>0.00124675</td>\n",
       "    </tr>\n",
       "    <tr>\n",
       "      <th>7</th>\n",
       "      <td>MultinomialNB</td>\n",
       "      <td>{'alpha': 1.0, 'class_prior': None, 'fit_prior...</td>\n",
       "      <td>0.722782</td>\n",
       "      <td>0.71157</td>\n",
       "      <td>0.157398</td>\n",
       "      <td>0.00759113</td>\n",
       "    </tr>\n",
       "  </tbody>\n",
       "</table>\n",
       "</div>"
      ],
      "text/plain": [
       "                      MLC Name  \\\n",
       "11              LGBMClassifier   \n",
       "2   GradientBoostingClassifier   \n",
       "10               XGBClassifier   \n",
       "3            BaggingClassifier   \n",
       "1       RandomForestClassifier   \n",
       "0           AdaBoostClassifier   \n",
       "9       DecisionTreeClassifier   \n",
       "6                   GaussianNB   \n",
       "8                    LinearSVC   \n",
       "4           LogisticRegression   \n",
       "5                   Perceptron   \n",
       "7                MultinomialNB   \n",
       "\n",
       "                                       MLC Parameters MLC Train Accuracy Mean  \\\n",
       "11  {'boosting_type': 'gbdt', 'class_weight': None...                0.876921   \n",
       "2   {'criterion': 'friedman_mse', 'init': None, 'l...                0.864952   \n",
       "10  {'base_score': 0.5, 'booster': 'gbtree', 'cols...                0.852604   \n",
       "3   {'base_estimator': None, 'bootstrap': True, 'b...                0.893005   \n",
       "1   {'bootstrap': True, 'class_weight': None, 'cri...                0.893006   \n",
       "0   {'algorithm': 'SAMME.R', 'base_estimator': Non...                  0.8223   \n",
       "9   {'class_weight': None, 'criterion': 'gini', 'm...                0.897121   \n",
       "6                                    {'priors': None}                0.796108   \n",
       "8   {'C': 1.0, 'class_weight': None, 'dual': True,...                 0.79237   \n",
       "4   {'C': 1.0, 'class_weight': None, 'dual': False...                0.791249   \n",
       "5   {'alpha': 0.0001, 'class_weight': None, 'eta0'...                0.754945   \n",
       "7   {'alpha': 1.0, 'class_prior': None, 'fit_prior...                0.722782   \n",
       "\n",
       "   MLC Test Accuracy Mean MLC Test Accuracy 3*STD    MLC Time  \n",
       "11               0.819345               0.0680627   0.0443744  \n",
       "2                0.818209                0.044254   0.0461946  \n",
       "10               0.817098               0.0632654   0.0363567  \n",
       "3                 0.81373               0.0596801  0.00996011  \n",
       "1                0.805882               0.0711652  0.00948012  \n",
       "0                0.802514               0.0804876    0.043391  \n",
       "9                0.801388               0.0718485  0.00149649  \n",
       "6                0.789036               0.0684322  0.00124663  \n",
       "8                0.784541               0.0671827   0.0251824  \n",
       "4                0.781168               0.0597469  0.00248557  \n",
       "5                0.749773                0.103863  0.00124675  \n",
       "7                 0.71157                0.157398  0.00759113  "
      ]
     },
     "execution_count": 133,
     "metadata": {},
     "output_type": "execute_result"
    }
   ],
   "source": [
    "#buld an algo chart to come up with a comparison matrix\n",
    "#Machine Learning Classifier list\n",
    "MLC = [\n",
    "    #ensemble methods\n",
    "    ensemble.AdaBoostClassifier(),\n",
    "    ensemble.RandomForestClassifier(),\n",
    "    ensemble.GradientBoostingClassifier(),\n",
    "    ensemble.BaggingClassifier(),\n",
    "    \n",
    "    #linear models\n",
    "    linear_model.LogisticRegression(),\n",
    "    linear_model.Perceptron(),\n",
    "    \n",
    "    #naives bayes\n",
    "    naive_bayes.GaussianNB(),\n",
    "    naive_bayes.MultinomialNB(),\n",
    "    \n",
    "    \n",
    "    #SVM\n",
    "    svm.LinearSVC(),\n",
    "    \n",
    "    #Trees\n",
    "    tree.DecisionTreeClassifier(),\n",
    "    \n",
    "    #booster\n",
    "    XGBClassifier(),\n",
    "    lgb.LGBMClassifier()\n",
    "    ]\n",
    "\n",
    "MLC_col = ['MLC Name', 'MLC Parameters','MLC Train Accuracy Mean', 'MLC Test Accuracy Mean', 'MLC Test Accuracy 3*STD' ,'MLC Time']\n",
    "MLC_grid = pd.DataFrame(columns = MLC_col)\n",
    "\n",
    "k_fold = model_selection.KFold(n_splits=10, random_state=15)\n",
    "\n",
    "row_num = 0\n",
    "k_fold = model_selection.KFold(n_splits=4, random_state=15)\n",
    "MLC_pred = df1[Target]\n",
    "\n",
    "for x in MLC:\n",
    "    #MLC NAME\n",
    "    MLC_name = x.__class__.__name__\n",
    "    MLC_grid.loc[row_num, 'MLC Name'] = MLC_name\n",
    "    \n",
    "    #MLC Parameters\n",
    "    MLC_grid.loc[row_num, 'MLC Parameters'] = str(x.get_params())\n",
    "    \n",
    "    results = model_selection.cross_validate(x, df1[df1_x_bin], df1[Target], cv = k_fold)\n",
    "    \n",
    "    #MLC Train Accuracy MeanMLC Test Accuracy Mean\n",
    "    MLC_grid.loc[row_num, 'MLC Train Accuracy Mean'] = results['train_score'].mean()\n",
    "    \n",
    "    #MLC Test Accuracy Mean\n",
    "    MLC_grid.loc[row_num, 'MLC Test Accuracy Mean'] = results['test_score'].mean()\n",
    "    \n",
    "    #MLC Test Accuracy 3*STD\n",
    "    MLC_grid.loc[row_num, 'MLC Test Accuracy 3*STD'] = results['test_score'].std()*3\n",
    "    \n",
    "    #MLC Time\n",
    "    MLC_grid.loc[row_num, 'MLC Time'] = results['fit_time'].mean()\n",
    "    \n",
    "    x.fit(df1[df1_x_bin], df1[Target])\n",
    "    MLC_pred[MLC_name] = x.predict(df1[df1_x_bin])\n",
    "    \n",
    "    row_num += 1\n",
    "\n",
    "MLC_grid.sort_values(by='MLC Test Accuracy Mean', ascending = False)"
   ]
  },
  {
   "cell_type": "code",
   "execution_count": 148,
   "metadata": {
    "scrolled": true
   },
   "outputs": [
    {
     "data": {
      "text/plain": [
       "<matplotlib.axes._subplots.AxesSubplot at 0x1b95a912ef0>"
      ]
     },
     "execution_count": 148,
     "metadata": {},
     "output_type": "execute_result"
    },
    {
     "data": {
      "image/png": "[encoded data removed]",
      "text/plain": [
       "<matplotlib.figure.Figure at 0x1b95c068da0>"
      ]
     },
     "metadata": {},
     "output_type": "display_data"
    }
   ],
   "source": [
    "MLC_grid.loc[:, ['MLC Name', 'MLC Test Accuracy Mean']].set_index('MLC Name').sort_values(by='MLC Test Accuracy Mean', ascending=False).plot(kind='bar')"
   ]
  },
  {
   "cell_type": "markdown",
   "metadata": {},
   "source": [
    "We will use GBMClassifier. We may test GradientBoostingClassifier and XGBClassifier as well. "
   ]
  },
  {
   "cell_type": "markdown",
   "metadata": {},
   "source": [
    "## Split Training and Testing Data"
   ]
  },
  {
   "cell_type": "code",
   "execution_count": 168,
   "metadata": {},
   "outputs": [],
   "source": [
    "# to revisit after Model Comparison"
   ]
  },
  {
   "cell_type": "code",
   "execution_count": null,
   "metadata": {},
   "outputs": [],
   "source": []
  },
  {
   "cell_type": "code",
   "execution_count": null,
   "metadata": {},
   "outputs": [],
   "source": []
  },
  {
   "cell_type": "code",
   "execution_count": null,
   "metadata": {},
   "outputs": [],
   "source": []
  },
  {
   "cell_type": "code",
   "execution_count": null,
   "metadata": {},
   "outputs": [],
   "source": []
  },
  {
   "cell_type": "code",
   "execution_count": null,
   "metadata": {},
   "outputs": [],
   "source": []
  },
  {
   "cell_type": "code",
   "execution_count": null,
   "metadata": {},
   "outputs": [],
   "source": []
  },
  {
   "cell_type": "code",
   "execution_count": null,
   "metadata": {},
   "outputs": [],
   "source": []
  },
  {
   "cell_type": "code",
   "execution_count": null,
   "metadata": {},
   "outputs": [],
   "source": []
  },
  {
   "cell_type": "code",
   "execution_count": null,
   "metadata": {},
   "outputs": [],
   "source": []
  },
  {
   "cell_type": "code",
   "execution_count": null,
   "metadata": {},
   "outputs": [],
   "source": []
  },
  {
   "cell_type": "code",
   "execution_count": null,
   "metadata": {},
   "outputs": [],
   "source": []
  },
  {
   "cell_type": "code",
   "execution_count": null,
   "metadata": {},
   "outputs": [],
   "source": []
  }
 ],
 "metadata": {
  "kernelspec": {
   "display_name": "Python 3",
   "language": "python",
   "name": "python3"
  },
  "language_info": {
   "codemirror_mode": {
    "name": "ipython",
    "version": 3
   },
   "file_extension": ".py",
   "mimetype": "text/x-python",
   "name": "python",
   "nbconvert_exporter": "python",
   "pygments_lexer": "ipython3",
   "version": "3.6.4"
  }
 },
 "nbformat": 4,
 "nbformat_minor": 2
}
